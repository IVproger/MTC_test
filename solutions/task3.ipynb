{
 "cells": [
  {
   "cell_type": "markdown",
   "metadata": {},
   "source": [
    "Взять скриншот с сайта МТС (первое изображение) и найти на этом скрине лого МТС (второе изображение)"
   ]
  },
  {
   "cell_type": "code",
   "execution_count": null,
   "metadata": {},
   "outputs": [],
   "source": []
  }
 ],
 "metadata": {
  "language_info": {
   "name": "python"
  }
 },
 "nbformat": 4,
 "nbformat_minor": 2
}
