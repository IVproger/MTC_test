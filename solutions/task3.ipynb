{
 "cells": [
  {
   "cell_type": "markdown",
   "metadata": {},
   "source": [
    "Взять скриншот с сайта МТС (первое изображение) и найти на этом скрине лого МТС (второе изображение)\n",
    "\n",
    "Статьи: \n",
    "https://qna.habr.com/q/1049696\n",
    "https://stackoverflow.com/questions/7853628/how-do-i-find-an-image-contained-within-an-image\n",
    "https://stackoverflow.com/questions/61067512/locating-a-picture-inside-a-bigger-picture\n",
    "\n",
    "Идеи:\n",
    "1) Back projection techique \n",
    "2) Использовать гистограммы, чтобы подобрать схожести в распределениях и накинуть треш холд для выявляения одной картинки на другой"
   ]
  },
  {
   "cell_type": "code",
   "execution_count": null,
   "metadata": {},
   "outputs": [],
   "source": []
  }
 ],
 "metadata": {
  "language_info": {
   "name": "python"
  }
 },
 "nbformat": 4,
 "nbformat_minor": 2
}
