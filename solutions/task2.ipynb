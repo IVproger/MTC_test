{
 "cells": [
  {
   "cell_type": "markdown",
   "metadata": {},
   "source": [
    "Материалы для работы:\n",
    "* https://habr.com/ru/articles/768562/\n",
    "* https://huggingface.co/learn/audio-course/ru/chapter5/asr_models"
   ]
  },
  {
   "cell_type": "markdown",
   "metadata": {},
   "source": [
    "# Решение задачи для аудио на Английском"
   ]
  },
  {
   "cell_type": "code",
   "execution_count": 2,
   "metadata": {},
   "outputs": [],
   "source": [
    "import torch\n",
    "from transformers import pipeline\n",
    "\n",
    "# Скачиваем модель для распознавания аудио\n",
    "# Medium model работает только с английским языком, если необходимо использовать другой язык, то нужно скачать large модель\n",
    "device = \"cuda:0\" if torch.cuda.is_available() else \"cpu\"\n",
    "pipe = pipeline(\n",
    "    \"automatic-speech-recognition\", model=\"openai/whisper-medium\", device=device\n",
    ")"
   ]
  },
  {
   "cell_type": "code",
   "execution_count": 3,
   "metadata": {},
   "outputs": [],
   "source": [
    "import os\n",
    "import torchaudio\n",
    "from torchaudio.datasets import LIBRISPEECH\n",
    "import shutil\n",
    "import warnings\n",
    "import difflib\n",
    "\n",
    "warnings.filterwarnings(\"ignore\")"
   ]
  },
  {
   "cell_type": "code",
   "execution_count": 4,
   "metadata": {},
   "outputs": [
    {
     "name": "stderr",
     "output_type": "stream",
     "text": [
      "100%|██████████| 331M/331M [00:44<00:00, 7.80MB/s] \n"
     ]
    },
    {
     "name": "stdout",
     "output_type": "stream",
     "text": [
      "Test audio WAV file and corresponding text file created successfully.\n"
     ]
    }
   ],
   "source": [
    "data_dir = \"./data\"\n",
    "os.makedirs(data_dir, exist_ok=True)\n",
    "\n",
    "#  Скачиваем 1 инстанс датасета для теста нашей модели\n",
    "try:\n",
    "    dataset = LIBRISPEECH(data_dir, url=\"test-clean\", download=True)\n",
    "except Exception as e:\n",
    "    print(f\"Ошибка: {e}\")\n",
    "    exit(1)\n",
    "\n",
    "sample = dataset[0]\n",
    "waveform, sample_rate, utterance, speaker_id, chapter_id, utterance_id = sample\n",
    "\n",
    "# Определяем директорию для сохранения аудиофайла\n",
    "output_dir = \"../audio\"\n",
    "os.makedirs(output_dir, exist_ok=True)\n",
    "\n",
    "# Сохраняем аудиофайл в формате WAV\n",
    "torchaudio.save(os.path.join(output_dir, \"test_audio.wav\"), waveform, sample_rate)\n",
    "\n",
    "# Сохраняем текстовый файл с транскрипцией аудиофайла\n",
    "with open(os.path.join(output_dir, \"test_audio.txt\"), \"w\") as f:\n",
    "    f.write(utterance)\n",
    "\n",
    "# Удаляем директорию с данными для сохранения памяти\n",
    "shutil.rmtree(data_dir)\n",
    "print(\"Загрузка данных завершена\")"
   ]
  },
  {
   "cell_type": "code",
   "execution_count": 5,
   "metadata": {},
   "outputs": [
    {
     "name": "stdout",
     "output_type": "stream",
     "text": [
      "Транскрипция:  he hoped there would be stew for dinner, turnips and carrots and bruised potatoes and fat mutton-pieces to be ladled out in thick, peppered, flour-fattened sauce.\n",
      "Оригинальный текст: he hoped there would be stew for dinner turnips and carrots and bruised potatoes and fat mutton pieces to be ladled out in thick peppered flour fattened sauce\n",
      "Коэффициет сходства: 97.196 %\n"
     ]
    }
   ],
   "source": [
    "warnings.filterwarnings(\"ignore\")\n",
    "\n",
    "# Делаем транскрипцию аудиофайла\n",
    "result = pipe('../audio/test_audio.wav', max_new_tokens=256)\n",
    "\n",
    "# Выполняем сравнение транскрипции с оригинальным текстом\n",
    "transcribed_text = result[\"text\"].lower()\n",
    "print(f\"Транскрипция: {transcribed_text}\")\n",
    "\n",
    "with open('../audio/test_audio.txt') as file:\n",
    "    original_text = file.read().lower()\n",
    "print(f\"Оригинальный текст: {original_text}\")\n",
    "\n",
    "# Подсчитываем коэффициент сходства\n",
    "similarity_ratio = difflib.SequenceMatcher(None, transcribed_text, original_text).ratio()\n",
    "\n",
    "print(\"Коэффициет сходства:\", round(similarity_ratio*100,3), \"%\")"
   ]
  },
  {
   "cell_type": "markdown",
   "metadata": {},
   "source": [
    "# Решение задачи для аудио на Русском языке"
   ]
  }
 ],
 "metadata": {
  "kernelspec": {
   "display_name": ".venv",
   "language": "python",
   "name": "python3"
  },
  "language_info": {
   "codemirror_mode": {
    "name": "ipython",
    "version": 3
   },
   "file_extension": ".py",
   "mimetype": "text/x-python",
   "name": "python",
   "nbconvert_exporter": "python",
   "pygments_lexer": "ipython3",
   "version": "3.11.9"
  }
 },
 "nbformat": 4,
 "nbformat_minor": 2
}
