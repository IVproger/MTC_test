{
 "cells": [
  {
   "cell_type": "markdown",
   "metadata": {},
   "source": [
    "Материалы для работы:\n",
    "* https://habr.com/ru/articles/768562/\n",
    "* https://huggingface.co/learn/audio-course/ru/chapter5/asr_models"
   ]
  },
  {
   "cell_type": "code",
   "execution_count": 1,
   "metadata": {},
   "outputs": [],
   "source": [
    "import torch\n",
    "from transformers import pipeline\n",
    "\n",
    "device = \"cuda:0\" if torch.cuda.is_available() else \"cpu\"\n",
    "pipe = pipeline(\n",
    "    \"automatic-speech-recognition\", model=\"openai/whisper-medium\", device=device\n",
    ")"
   ]
  },
  {
   "cell_type": "code",
   "execution_count": 9,
   "metadata": {},
   "outputs": [],
   "source": [
    "import os\n",
    "import torchaudio\n",
    "from datasets import load_dataset"
   ]
  },
  {
   "cell_type": "code",
   "execution_count": 4,
   "metadata": {},
   "outputs": [
    {
     "name": "stderr",
     "output_type": "stream",
     "text": [
      "100%|██████████| 331M/331M [00:44<00:00, 7.80MB/s] \n"
     ]
    },
    {
     "name": "stdout",
     "output_type": "stream",
     "text": [
      "Test audio WAV file and corresponding text file created successfully.\n"
     ]
    }
   ],
   "source": [
    "import os\n",
    "import torchaudio\n",
    "from torchaudio.datasets import LIBRISPEECH\n",
    "import shutil\n",
    "\n",
    "# Step 1: Install the required library\n",
    "# Run this command in your terminal\n",
    "# pip install torchaudio\n",
    "\n",
    "# Ensure the data directory exists\n",
    "data_dir = \"./data\"\n",
    "os.makedirs(data_dir, exist_ok=True)\n",
    "\n",
    "# Step 2: Download a sample from the LibriSpeech dataset\n",
    "# We will use the \"test-clean\" subset for this example\n",
    "try:\n",
    "    dataset = LIBRISPEECH(data_dir, url=\"test-clean\", download=True)\n",
    "except Exception as e:\n",
    "    print(f\"Error downloading dataset: {e}\")\n",
    "    exit(1)\n",
    "\n",
    "# Step 3: Extract the first sample from the dataset\n",
    "sample = dataset[0]\n",
    "waveform, sample_rate, utterance, speaker_id, chapter_id, utterance_id = sample\n",
    "\n",
    "# Ensure the output directory exists\n",
    "output_dir = \"../audio\"\n",
    "os.makedirs(output_dir, exist_ok=True)\n",
    "\n",
    "# Save the audio waveform as a WAV file\n",
    "torchaudio.save(os.path.join(output_dir, \"test_audio.wav\"), waveform, sample_rate)\n",
    "\n",
    "# Save the corresponding text to a file\n",
    "with open(os.path.join(output_dir, \"test_audio.txt\"), \"w\") as f:\n",
    "    f.write(utterance)\n",
    "\n",
    "\n",
    "shutil.rmtree(data_dir)\n",
    "print(\"Temporary data directory deleted successfully.\")\n",
    "print(\"Test audio WAV file and corresponding text file created successfully.\")"
   ]
  },
  {
   "cell_type": "code",
   "execution_count": 5,
   "metadata": {},
   "outputs": [
    {
     "name": "stdout",
     "output_type": "stream",
     "text": [
      "Transcribed Text:  he hoped there would be stew for dinner, turnips and carrots and bruised potatoes and fat mutton-pieces to be ladled out in thick, peppered, flour-fattened sauce.\n",
      "Similarity Ratio: 0.9719626168224299\n"
     ]
    }
   ],
   "source": [
    "import warnings\n",
    "import difflib\n",
    "\n",
    "# Step 1: Ignore warnings\n",
    "warnings.filterwarnings(\"ignore\")\n",
    "\n",
    "# Step 2: Run the transcription process\n",
    "result = pipe('../audio/test_audio.wav', max_new_tokens=256)\n",
    "\n",
    "# Step 3: Print the transcribed text\n",
    "transcribed_text = result[\"text\"].lower()\n",
    "print(\"Transcribed Text:\", transcribed_text)\n",
    "\n",
    "# Step 4: Define the original text\n",
    "with open('../audio/test_audio.txt') as file:\n",
    "    original_text = file.read().lower()\n",
    "\n",
    "# Step 5: Compare the transcribed text with the original text\n",
    "similarity_ratio = difflib.SequenceMatcher(None, transcribed_text, original_text).ratio()\n",
    "\n",
    "# Step 6: Print the similarity ratio\n",
    "print(\"Similarity Ratio:\", similarity_ratio)"
   ]
  }
 ],
 "metadata": {
  "kernelspec": {
   "display_name": ".venv",
   "language": "python",
   "name": "python3"
  },
  "language_info": {
   "codemirror_mode": {
    "name": "ipython",
    "version": 3
   },
   "file_extension": ".py",
   "mimetype": "text/x-python",
   "name": "python",
   "nbconvert_exporter": "python",
   "pygments_lexer": "ipython3",
   "version": "3.11.9"
  }
 },
 "nbformat": 4,
 "nbformat_minor": 2
}
