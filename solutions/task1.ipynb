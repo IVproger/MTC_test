{
 "cells": [
  {
   "cell_type": "code",
   "execution_count": 3,
   "metadata": {},
   "outputs": [],
   "source": [
    "import os\n",
    "path_test_cases = '../test_cases_for_task1'\n",
    "\n",
    "documents = []\n",
    "\n",
    "for filename in os.listdir(path_test_cases):\n",
    "    file_path = os.path.join(path_test_cases, filename)\n",
    "    if os.path.isfile(file_path): # Double ckeck that file path exist and valid\n",
    "        with open(file_path, 'r') as file:\n",
    "            content = file.read()\n",
    "            documents.append(content)"
   ]
  },
  {
   "cell_type": "code",
   "execution_count": 17,
   "metadata": {},
   "outputs": [
    {
     "name": "stdout",
     "output_type": "stream",
     "text": [
      "['неделя', 'обсуждать', 'возможность', 'покупка', 'оборудование', 'конкретный', 'решение', 'принять', 'следующий', 'совещание', 'назначить', 'следующий', 'понедельник']\n"
     ]
    }
   ],
   "source": [
    "import spacy\n",
    "from spacy.lang.ru.stop_words import STOP_WORDS\n",
    "\n",
    "nlp = spacy.load('ru_core_news_sm')\n",
    "\n",
    "for text in documents:\n",
    "    tmp = nlp(text.lower()) \n",
    "    \n",
    "    filtered_words = []\n",
    "    for word in tmp:\n",
    "        if not word.is_stop and not word.is_punct:  \n",
    "            filtered_words.append(word.lemma_)\n",
    "    \n",
    "    print(filtered_words) \n",
    "    \n",
    "    break"
   ]
  }
 ],
 "metadata": {
  "kernelspec": {
   "display_name": ".venv",
   "language": "python",
   "name": "python3"
  },
  "language_info": {
   "codemirror_mode": {
    "name": "ipython",
    "version": 3
   },
   "file_extension": ".py",
   "mimetype": "text/x-python",
   "name": "python",
   "nbconvert_exporter": "python",
   "pygments_lexer": "ipython3",
   "version": "3.11.9"
  }
 },
 "nbformat": 4,
 "nbformat_minor": 2
}
